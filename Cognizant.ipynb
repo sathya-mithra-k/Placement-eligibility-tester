{
 "cells": [
  {
   "cell_type": "code",
   "execution_count": 1,
   "id": "181780aa-0f35-4d21-9863-e188eab23c56",
   "metadata": {},
   "outputs": [],
   "source": [
    "import pandas as pd\n",
    "import numpy as np\n",
    "from sklearn.preprocessing import LabelEncoder, MultiLabelBinarizer, StandardScaler, OneHotEncoder\n",
    "from sklearn.compose import ColumnTransformer\n",
    "from sklearn.model_selection import train_test_split\n",
    "from sklearn.ensemble import RandomForestClassifier\n",
    "from sklearn.metrics import accuracy_score, classification_report"
   ]
  },
  {
   "cell_type": "code",
   "execution_count": 2,
   "id": "7c8126ed-2d47-4d4e-92f9-3b1644f6db4d",
   "metadata": {},
   "outputs": [],
   "source": [
    "df = pd.read_csv('student_dataset.csv')"
   ]
  },
  {
   "cell_type": "code",
   "execution_count": 3,
   "id": "d057666d-3ed0-405c-8664-6d176f7689d4",
   "metadata": {},
   "outputs": [
    {
     "name": "stdout",
     "output_type": "stream",
     "text": [
      "<class 'pandas.core.frame.DataFrame'>\n",
      "RangeIndex: 600 entries, 0 to 599\n",
      "Data columns (total 12 columns):\n",
      " #   Column                                Non-Null Count  Dtype  \n",
      "---  ------                                --------------  -----  \n",
      " 0   Gender                                600 non-null    object \n",
      " 1   CGPA                                  600 non-null    float64\n",
      " 2   Skills                                600 non-null    object \n",
      " 3   Student_Department                    600 non-null    object \n",
      " 4   Prior_Internship_Experience(Integer)  600 non-null    int64  \n",
      " 5   Aptitude_Score                        600 non-null    int64  \n",
      " 6   Communication_Skill_Score(out_of_10)  600 non-null    float64\n",
      " 7   Zoho_hired                            600 non-null    object \n",
      " 8   Accenture_hired                       600 non-null    object \n",
      " 9   IBM_hired                             600 non-null    object \n",
      " 10  Cognizant_hired                       600 non-null    object \n",
      " 11  Knows Coding Language                 600 non-null    object \n",
      "dtypes: float64(2), int64(2), object(8)\n",
      "memory usage: 56.4+ KB\n"
     ]
    }
   ],
   "source": [
    "df.info()"
   ]
  },
  {
   "cell_type": "code",
   "execution_count": 4,
   "id": "eba7c77a-60df-4029-8eeb-5b68726fea56",
   "metadata": {},
   "outputs": [],
   "source": [
    "df['Skills'] = df['Skills'].apply(lambda x: x.split(', ')) "
   ]
  },
  {
   "cell_type": "code",
   "execution_count": 5,
   "id": "0b90f213-b242-479c-8515-8233a6de0b24",
   "metadata": {},
   "outputs": [],
   "source": [
    "mlb_Cognizant = MultiLabelBinarizer()\n",
    "skills_encoded = pd.DataFrame(mlb_Cognizant.fit_transform(df['Skills']), columns=mlb_Cognizant.classes_, index=df.index)"
   ]
  },
  {
   "cell_type": "code",
   "execution_count": 6,
   "id": "c76fe01c-186d-48f8-b66e-31fe3a1a49c2",
   "metadata": {},
   "outputs": [],
   "source": [
    "features = df[['Gender', 'CGPA', 'Student_Department', 'Prior_Internship_Experience(Integer)', 'Aptitude_Score', 'Communication_Skill_Score(out_of_10)']]\n",
    "X = pd.concat([features, skills_encoded], axis=1)"
   ]
  },
  {
   "cell_type": "code",
   "execution_count": 7,
   "id": "7fad31ee-4065-4ab2-851e-f68e354f62fe",
   "metadata": {},
   "outputs": [],
   "source": [
    "y = df['Cognizant_hired']\n",
    "label_encoder = LabelEncoder()\n",
    "y = label_encoder.fit_transform(y)"
   ]
  },
  {
   "cell_type": "code",
   "execution_count": 8,
   "id": "53e0defa-73ca-46f0-bd3c-6fa708cb06a3",
   "metadata": {},
   "outputs": [],
   "source": [
    "X['Gender'] = label_encoder.fit_transform(X['Gender'])\n",
    "X['Student_Department'] = label_encoder.fit_transform(X['Student_Department'])"
   ]
  },
  {
   "cell_type": "code",
   "execution_count": 9,
   "id": "3a9ec7bc-5460-40d1-bcd4-38723b4d6068",
   "metadata": {},
   "outputs": [
    {
     "data": {
      "text/plain": [
       "(600, 14)"
      ]
     },
     "execution_count": 9,
     "metadata": {},
     "output_type": "execute_result"
    }
   ],
   "source": [
    "X.shape"
   ]
  },
  {
   "cell_type": "code",
   "execution_count": 11,
   "id": "d9e830a3-9f36-400e-86ea-ebc922dfa9b2",
   "metadata": {},
   "outputs": [],
   "source": [
    "X_train,X_test,y_train,y_test = train_test_split(X.values,y,test_size=0.2,random_state=42)"
   ]
  },
  {
   "cell_type": "code",
   "execution_count": 12,
   "id": "1230476d-18da-46a6-94c4-92caae72ca3f",
   "metadata": {},
   "outputs": [],
   "source": [
    "classifier = RandomForestClassifier(random_state=42)\n",
    "classifier.fit(X_train, y_train)\n",
    "y_pred = classifier.predict(X_test)"
   ]
  },
  {
   "cell_type": "code",
   "execution_count": 13,
   "id": "405ae37a-4496-4b37-b731-4369068df6d6",
   "metadata": {},
   "outputs": [],
   "source": [
    "y_pred = classifier.predict(X_test)"
   ]
  },
  {
   "cell_type": "code",
   "execution_count": 14,
   "id": "dde81fc2-a6b2-4a16-8856-68426afe835b",
   "metadata": {},
   "outputs": [
    {
     "name": "stdout",
     "output_type": "stream",
     "text": [
      "Accuracy: 0.91\n"
     ]
    }
   ],
   "source": [
    "accuracy = accuracy_score(y_test, y_pred)\n",
    "print(f\"Accuracy: {accuracy:.2f}\")"
   ]
  },
  {
   "cell_type": "code",
   "execution_count": 15,
   "id": "010f5f40-0e30-427b-9ec9-697bfafd82e2",
   "metadata": {},
   "outputs": [],
   "source": [
    "import joblib"
   ]
  },
  {
   "cell_type": "code",
   "execution_count": 16,
   "id": "594d4933-fee6-4eed-b456-c64bac885c14",
   "metadata": {},
   "outputs": [
    {
     "data": {
      "text/plain": [
       "['Cognizant.pkl']"
      ]
     },
     "execution_count": 16,
     "metadata": {},
     "output_type": "execute_result"
    }
   ],
   "source": [
    "joblib.dump(classifier,'Cognizant.pkl')"
   ]
  },
  {
   "cell_type": "code",
   "execution_count": 17,
   "id": "937f3e8c-fdef-45c4-9b86-27180ff9faa0",
   "metadata": {},
   "outputs": [
    {
     "data": {
      "text/plain": [
       "['mlb_Cognizant.pkl']"
      ]
     },
     "execution_count": 17,
     "metadata": {},
     "output_type": "execute_result"
    }
   ],
   "source": [
    "joblib.dump(mlb_Cognizant, 'mlb_Cognizant.pkl')"
   ]
  },
  {
   "cell_type": "code",
   "execution_count": null,
   "id": "afbfbd2d-46e0-406d-9a96-7f81776c9bee",
   "metadata": {},
   "outputs": [],
   "source": []
  }
 ],
 "metadata": {
  "kernelspec": {
   "display_name": "Python 3",
   "language": "python",
   "name": "python3"
  },
  "language_info": {
   "codemirror_mode": {
    "name": "ipython",
    "version": 3
   },
   "file_extension": ".py",
   "mimetype": "text/x-python",
   "name": "python",
   "nbconvert_exporter": "python",
   "pygments_lexer": "ipython3",
   "version": "3.11.2"
  }
 },
 "nbformat": 4,
 "nbformat_minor": 5
}
