{
 "cells": [
  {
   "cell_type": "code",
   "execution_count": 1,
   "id": "fac27fe6-2dd1-4048-b0df-8483a22f0555",
   "metadata": {},
   "outputs": [],
   "source": [
    "import pandas as pd\n",
    "from sklearn.preprocessing import LabelEncoder\n",
    "from sklearn.model_selection import train_test_split\n",
    "from sklearn.ensemble import RandomForestClassifier\n",
    "from sklearn.metrics import accuracy_score, classification_report"
   ]
  },
  {
   "cell_type": "code",
   "execution_count": 2,
   "id": "51fd0c44-6a1a-47ca-be02-1c4201b2d51a",
   "metadata": {},
   "outputs": [],
   "source": [
    "df = pd.read_csv('student_dataset.csv')"
   ]
  },
  {
   "cell_type": "code",
   "execution_count": 3,
   "id": "ec462b46-334f-4f03-8aff-0cc38bf775d4",
   "metadata": {},
   "outputs": [],
   "source": [
    "df['Skills'] = df['Skills'].apply(lambda x: x.split(', ')) "
   ]
  },
  {
   "cell_type": "code",
   "execution_count": 4,
   "id": "027fb290-cba5-4fc0-92a5-b7667bcd8362",
   "metadata": {},
   "outputs": [],
   "source": [
    "from sklearn.preprocessing import MultiLabelBinarizer"
   ]
  },
  {
   "cell_type": "code",
   "execution_count": 5,
   "id": "5215dad5-ed0d-45c9-8b0f-a9d6f857fbde",
   "metadata": {},
   "outputs": [],
   "source": [
    "mlb_zoho = MultiLabelBinarizer()\n",
    "skills_encoded = pd.DataFrame(mlb_zoho.fit_transform(df['Skills']), columns=mlb_zoho.classes_, index=df.index)"
   ]
  },
  {
   "cell_type": "code",
   "execution_count": 6,
   "id": "dcef3580-754a-4598-ac04-6f312b58aaa8",
   "metadata": {},
   "outputs": [],
   "source": [
    "features = df[['Gender', 'CGPA', 'Student_Department', 'Prior_Internship_Experience(Integer)', 'Aptitude_Score', 'Communication_Skill_Score(out_of_10)']]\n",
    "X = pd.concat([features, skills_encoded], axis=1)"
   ]
  },
  {
   "cell_type": "code",
   "execution_count": 7,
   "id": "eefa5587-5e15-43bf-9aa9-787827285063",
   "metadata": {},
   "outputs": [],
   "source": [
    "y = df['Zoho_hired'].values\n",
    "label_encoder = LabelEncoder()\n",
    "y = label_encoder.fit_transform(y)"
   ]
  },
  {
   "cell_type": "code",
   "execution_count": 8,
   "id": "faa4e36c-2a44-48d1-967e-e262e3942200",
   "metadata": {},
   "outputs": [
    {
     "name": "stdout",
     "output_type": "stream",
     "text": [
      "<class 'pandas.core.frame.DataFrame'>\n",
      "RangeIndex: 600 entries, 0 to 599\n",
      "Data columns (total 12 columns):\n",
      " #   Column                                Non-Null Count  Dtype  \n",
      "---  ------                                --------------  -----  \n",
      " 0   Gender                                600 non-null    object \n",
      " 1   CGPA                                  600 non-null    float64\n",
      " 2   Skills                                600 non-null    object \n",
      " 3   Student_Department                    600 non-null    object \n",
      " 4   Prior_Internship_Experience(Integer)  600 non-null    int64  \n",
      " 5   Aptitude_Score                        600 non-null    int64  \n",
      " 6   Communication_Skill_Score(out_of_10)  600 non-null    float64\n",
      " 7   Zoho_hired                            600 non-null    object \n",
      " 8   Accenture_hired                       600 non-null    object \n",
      " 9   IBM_hired                             600 non-null    object \n",
      " 10  Cognizant_hired                       600 non-null    object \n",
      " 11  Knows Coding Language                 600 non-null    object \n",
      "dtypes: float64(2), int64(2), object(8)\n",
      "memory usage: 56.4+ KB\n"
     ]
    }
   ],
   "source": [
    "df.info()"
   ]
  },
  {
   "cell_type": "code",
   "execution_count": 9,
   "id": "0f70897d-a592-4219-9901-eab2aeae1009",
   "metadata": {},
   "outputs": [
    {
     "data": {
      "text/plain": [
       "(600, 14)"
      ]
     },
     "execution_count": 9,
     "metadata": {},
     "output_type": "execute_result"
    }
   ],
   "source": [
    "X.shape"
   ]
  },
  {
   "cell_type": "code",
   "execution_count": 10,
   "id": "634a4fb0-fc4f-4be2-b824-c1cb95d36ff3",
   "metadata": {},
   "outputs": [
    {
     "data": {
      "text/html": [
       "<div>\n",
       "<style scoped>\n",
       "    .dataframe tbody tr th:only-of-type {\n",
       "        vertical-align: middle;\n",
       "    }\n",
       "\n",
       "    .dataframe tbody tr th {\n",
       "        vertical-align: top;\n",
       "    }\n",
       "\n",
       "    .dataframe thead th {\n",
       "        text-align: right;\n",
       "    }\n",
       "</style>\n",
       "<table border=\"1\" class=\"dataframe\">\n",
       "  <thead>\n",
       "    <tr style=\"text-align: right;\">\n",
       "      <th></th>\n",
       "      <th>Gender</th>\n",
       "      <th>CGPA</th>\n",
       "      <th>Student_Department</th>\n",
       "      <th>Prior_Internship_Experience(Integer)</th>\n",
       "      <th>Aptitude_Score</th>\n",
       "      <th>Communication_Skill_Score(out_of_10)</th>\n",
       "      <th>C++</th>\n",
       "      <th>Communication</th>\n",
       "      <th>HTML/CSS</th>\n",
       "      <th>Java</th>\n",
       "      <th>JavaScript</th>\n",
       "      <th>Problem Solving</th>\n",
       "      <th>Python</th>\n",
       "      <th>Teamwork</th>\n",
       "    </tr>\n",
       "  </thead>\n",
       "  <tbody>\n",
       "    <tr>\n",
       "      <th>0</th>\n",
       "      <td>Female</td>\n",
       "      <td>7.6</td>\n",
       "      <td>MECH</td>\n",
       "      <td>2</td>\n",
       "      <td>95</td>\n",
       "      <td>4.5</td>\n",
       "      <td>1</td>\n",
       "      <td>1</td>\n",
       "      <td>0</td>\n",
       "      <td>1</td>\n",
       "      <td>0</td>\n",
       "      <td>1</td>\n",
       "      <td>0</td>\n",
       "      <td>0</td>\n",
       "    </tr>\n",
       "    <tr>\n",
       "      <th>1</th>\n",
       "      <td>Female</td>\n",
       "      <td>7.6</td>\n",
       "      <td>ECE</td>\n",
       "      <td>1</td>\n",
       "      <td>98</td>\n",
       "      <td>4.9</td>\n",
       "      <td>0</td>\n",
       "      <td>1</td>\n",
       "      <td>0</td>\n",
       "      <td>1</td>\n",
       "      <td>0</td>\n",
       "      <td>1</td>\n",
       "      <td>1</td>\n",
       "      <td>0</td>\n",
       "    </tr>\n",
       "    <tr>\n",
       "      <th>2</th>\n",
       "      <td>Female</td>\n",
       "      <td>9.0</td>\n",
       "      <td>AI &amp; DS</td>\n",
       "      <td>2</td>\n",
       "      <td>65</td>\n",
       "      <td>7.7</td>\n",
       "      <td>1</td>\n",
       "      <td>0</td>\n",
       "      <td>1</td>\n",
       "      <td>1</td>\n",
       "      <td>0</td>\n",
       "      <td>1</td>\n",
       "      <td>0</td>\n",
       "      <td>0</td>\n",
       "    </tr>\n",
       "    <tr>\n",
       "      <th>3</th>\n",
       "      <td>Female</td>\n",
       "      <td>8.7</td>\n",
       "      <td>CSBS</td>\n",
       "      <td>1</td>\n",
       "      <td>85</td>\n",
       "      <td>5.0</td>\n",
       "      <td>1</td>\n",
       "      <td>1</td>\n",
       "      <td>0</td>\n",
       "      <td>0</td>\n",
       "      <td>0</td>\n",
       "      <td>0</td>\n",
       "      <td>0</td>\n",
       "      <td>0</td>\n",
       "    </tr>\n",
       "    <tr>\n",
       "      <th>4</th>\n",
       "      <td>Male</td>\n",
       "      <td>7.9</td>\n",
       "      <td>CSBS</td>\n",
       "      <td>0</td>\n",
       "      <td>51</td>\n",
       "      <td>6.0</td>\n",
       "      <td>0</td>\n",
       "      <td>1</td>\n",
       "      <td>1</td>\n",
       "      <td>1</td>\n",
       "      <td>0</td>\n",
       "      <td>0</td>\n",
       "      <td>0</td>\n",
       "      <td>0</td>\n",
       "    </tr>\n",
       "    <tr>\n",
       "      <th>...</th>\n",
       "      <td>...</td>\n",
       "      <td>...</td>\n",
       "      <td>...</td>\n",
       "      <td>...</td>\n",
       "      <td>...</td>\n",
       "      <td>...</td>\n",
       "      <td>...</td>\n",
       "      <td>...</td>\n",
       "      <td>...</td>\n",
       "      <td>...</td>\n",
       "      <td>...</td>\n",
       "      <td>...</td>\n",
       "      <td>...</td>\n",
       "      <td>...</td>\n",
       "    </tr>\n",
       "    <tr>\n",
       "      <th>595</th>\n",
       "      <td>Female</td>\n",
       "      <td>6.3</td>\n",
       "      <td>CSBS</td>\n",
       "      <td>1</td>\n",
       "      <td>75</td>\n",
       "      <td>6.0</td>\n",
       "      <td>0</td>\n",
       "      <td>1</td>\n",
       "      <td>0</td>\n",
       "      <td>0</td>\n",
       "      <td>1</td>\n",
       "      <td>0</td>\n",
       "      <td>0</td>\n",
       "      <td>1</td>\n",
       "    </tr>\n",
       "    <tr>\n",
       "      <th>596</th>\n",
       "      <td>Female</td>\n",
       "      <td>8.5</td>\n",
       "      <td>AI &amp; ML</td>\n",
       "      <td>2</td>\n",
       "      <td>50</td>\n",
       "      <td>9.2</td>\n",
       "      <td>0</td>\n",
       "      <td>0</td>\n",
       "      <td>0</td>\n",
       "      <td>0</td>\n",
       "      <td>0</td>\n",
       "      <td>0</td>\n",
       "      <td>1</td>\n",
       "      <td>0</td>\n",
       "    </tr>\n",
       "    <tr>\n",
       "      <th>597</th>\n",
       "      <td>Male</td>\n",
       "      <td>7.0</td>\n",
       "      <td>AI &amp; DS</td>\n",
       "      <td>2</td>\n",
       "      <td>59</td>\n",
       "      <td>6.1</td>\n",
       "      <td>0</td>\n",
       "      <td>0</td>\n",
       "      <td>1</td>\n",
       "      <td>0</td>\n",
       "      <td>1</td>\n",
       "      <td>1</td>\n",
       "      <td>0</td>\n",
       "      <td>0</td>\n",
       "    </tr>\n",
       "    <tr>\n",
       "      <th>598</th>\n",
       "      <td>Female</td>\n",
       "      <td>8.0</td>\n",
       "      <td>AI &amp; DS</td>\n",
       "      <td>2</td>\n",
       "      <td>65</td>\n",
       "      <td>9.8</td>\n",
       "      <td>0</td>\n",
       "      <td>1</td>\n",
       "      <td>0</td>\n",
       "      <td>0</td>\n",
       "      <td>0</td>\n",
       "      <td>0</td>\n",
       "      <td>0</td>\n",
       "      <td>0</td>\n",
       "    </tr>\n",
       "    <tr>\n",
       "      <th>599</th>\n",
       "      <td>Male</td>\n",
       "      <td>9.7</td>\n",
       "      <td>AI &amp; ML</td>\n",
       "      <td>1</td>\n",
       "      <td>62</td>\n",
       "      <td>9.2</td>\n",
       "      <td>0</td>\n",
       "      <td>0</td>\n",
       "      <td>1</td>\n",
       "      <td>0</td>\n",
       "      <td>0</td>\n",
       "      <td>0</td>\n",
       "      <td>0</td>\n",
       "      <td>1</td>\n",
       "    </tr>\n",
       "  </tbody>\n",
       "</table>\n",
       "<p>600 rows × 14 columns</p>\n",
       "</div>"
      ],
      "text/plain": [
       "     Gender  CGPA Student_Department  Prior_Internship_Experience(Integer)  \\\n",
       "0    Female   7.6               MECH                                     2   \n",
       "1    Female   7.6                ECE                                     1   \n",
       "2    Female   9.0            AI & DS                                     2   \n",
       "3    Female   8.7               CSBS                                     1   \n",
       "4      Male   7.9               CSBS                                     0   \n",
       "..      ...   ...                ...                                   ...   \n",
       "595  Female   6.3               CSBS                                     1   \n",
       "596  Female   8.5            AI & ML                                     2   \n",
       "597    Male   7.0            AI & DS                                     2   \n",
       "598  Female   8.0            AI & DS                                     2   \n",
       "599    Male   9.7            AI & ML                                     1   \n",
       "\n",
       "     Aptitude_Score  Communication_Skill_Score(out_of_10)  C++  Communication  \\\n",
       "0                95                                   4.5    1              1   \n",
       "1                98                                   4.9    0              1   \n",
       "2                65                                   7.7    1              0   \n",
       "3                85                                   5.0    1              1   \n",
       "4                51                                   6.0    0              1   \n",
       "..              ...                                   ...  ...            ...   \n",
       "595              75                                   6.0    0              1   \n",
       "596              50                                   9.2    0              0   \n",
       "597              59                                   6.1    0              0   \n",
       "598              65                                   9.8    0              1   \n",
       "599              62                                   9.2    0              0   \n",
       "\n",
       "     HTML/CSS  Java  JavaScript  Problem Solving  Python  Teamwork  \n",
       "0           0     1           0                1       0         0  \n",
       "1           0     1           0                1       1         0  \n",
       "2           1     1           0                1       0         0  \n",
       "3           0     0           0                0       0         0  \n",
       "4           1     1           0                0       0         0  \n",
       "..        ...   ...         ...              ...     ...       ...  \n",
       "595         0     0           1                0       0         1  \n",
       "596         0     0           0                0       1         0  \n",
       "597         1     0           1                1       0         0  \n",
       "598         0     0           0                0       0         0  \n",
       "599         1     0           0                0       0         1  \n",
       "\n",
       "[600 rows x 14 columns]"
      ]
     },
     "execution_count": 10,
     "metadata": {},
     "output_type": "execute_result"
    }
   ],
   "source": [
    "X"
   ]
  },
  {
   "cell_type": "code",
   "execution_count": 11,
   "id": "c987af85-92c9-4277-9b46-e1fb2fb38f5b",
   "metadata": {},
   "outputs": [],
   "source": [
    "X['Gender'] = label_encoder.fit_transform(X['Gender'])\n",
    "X['Student_Department'] = label_encoder.fit_transform(X['Student_Department'])"
   ]
  },
  {
   "cell_type": "code",
   "execution_count": 12,
   "id": "a882e3ba-faf5-44c0-b6ba-694a26733dec",
   "metadata": {},
   "outputs": [],
   "source": [
    "X_train, X_test, y_train, y_test = train_test_split(X.values, y, test_size=0.2, random_state=42)"
   ]
  },
  {
   "cell_type": "code",
   "execution_count": 15,
   "id": "9ad52320-410c-4e5b-be0f-e66a28b36d06",
   "metadata": {},
   "outputs": [
    {
     "data": {
      "text/plain": [
       "(600, 14)"
      ]
     },
     "execution_count": 15,
     "metadata": {},
     "output_type": "execute_result"
    }
   ],
   "source": [
    "X.shape"
   ]
  },
  {
   "cell_type": "code",
   "execution_count": 13,
   "id": "19f4ba20-5a85-48f3-9a62-2d03d3dba0fd",
   "metadata": {},
   "outputs": [],
   "source": [
    "classifier = RandomForestClassifier(random_state=42)\n",
    "classifier.fit(X_train, y_train)\n",
    "y_pred = classifier.predict(X_test)"
   ]
  },
  {
   "cell_type": "code",
   "execution_count": 14,
   "id": "28cbff6a-807b-437d-b7d6-6d4ae19f601f",
   "metadata": {},
   "outputs": [],
   "source": [
    "y_pred = classifier.predict(X_test)"
   ]
  },
  {
   "cell_type": "code",
   "execution_count": 15,
   "id": "1358addb-4621-43bb-874c-ebde98473c5c",
   "metadata": {},
   "outputs": [],
   "source": [
    "from sklearn.metrics import accuracy_score, classification_report"
   ]
  },
  {
   "cell_type": "code",
   "execution_count": 16,
   "id": "be9ce076-dc96-4a12-b3ef-ebd5f3158ff0",
   "metadata": {},
   "outputs": [
    {
     "name": "stdout",
     "output_type": "stream",
     "text": [
      "Accuracy: 0.94\n"
     ]
    }
   ],
   "source": [
    "accuracy = accuracy_score(y_test, y_pred)\n",
    "print(f\"Accuracy: {accuracy:.2f}\")"
   ]
  },
  {
   "cell_type": "code",
   "execution_count": 17,
   "id": "a783f8e4-6168-4cad-af87-c0792d8d633e",
   "metadata": {},
   "outputs": [],
   "source": [
    "import joblib"
   ]
  },
  {
   "cell_type": "code",
   "execution_count": 18,
   "id": "71fed189-e44a-41ad-9765-009e6c5635de",
   "metadata": {},
   "outputs": [
    {
     "data": {
      "text/plain": [
       "['Zoho.pkl']"
      ]
     },
     "execution_count": 18,
     "metadata": {},
     "output_type": "execute_result"
    }
   ],
   "source": [
    "joblib.dump(classifier, 'Zoho.pkl')"
   ]
  },
  {
   "cell_type": "code",
   "execution_count": 20,
   "id": "3cf68856-d309-4431-9161-5fc4022edb8c",
   "metadata": {},
   "outputs": [
    {
     "data": {
      "text/plain": [
       "['mlb_zoho.pkl']"
      ]
     },
     "execution_count": 20,
     "metadata": {},
     "output_type": "execute_result"
    }
   ],
   "source": [
    "joblib.dump(mlb_zoho, 'mlb_zoho.pkl')"
   ]
  },
  {
   "cell_type": "code",
   "execution_count": null,
   "id": "8051d4de-ba79-4168-81cb-fd0e95231a01",
   "metadata": {},
   "outputs": [],
   "source": []
  }
 ],
 "metadata": {
  "kernelspec": {
   "display_name": "Python 3",
   "language": "python",
   "name": "python3"
  },
  "language_info": {
   "codemirror_mode": {
    "name": "ipython",
    "version": 3
   },
   "file_extension": ".py",
   "mimetype": "text/x-python",
   "name": "python",
   "nbconvert_exporter": "python",
   "pygments_lexer": "ipython3",
   "version": "3.11.2"
  }
 },
 "nbformat": 4,
 "nbformat_minor": 5
}
