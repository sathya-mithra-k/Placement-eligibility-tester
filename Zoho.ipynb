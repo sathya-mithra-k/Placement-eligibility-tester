{
 "cells": [
  {
   "cell_type": "code",
   "execution_count": 1,
   "id": "fac27fe6-2dd1-4048-b0df-8483a22f0555",
   "metadata": {},
   "outputs": [],
   "source": [
    "import pandas as pd\n",
    "from sklearn.preprocessing import LabelEncoder\n",
    "from sklearn.model_selection import train_test_split\n",
    "from sklearn.ensemble import RandomForestClassifier\n",
    "from sklearn.metrics import accuracy_score, classification_report"
   ]
  },
  {
   "cell_type": "code",
   "execution_count": 2,
   "id": "51fd0c44-6a1a-47ca-be02-1c4201b2d51a",
   "metadata": {},
   "outputs": [],
   "source": [
    "df = pd.read_csv('student_dataset.csv')"
   ]
  },
  {
   "cell_type": "code",
   "execution_count": 3,
   "id": "ec462b46-334f-4f03-8aff-0cc38bf775d4",
   "metadata": {},
   "outputs": [],
   "source": [
    "df['Skills'] = df['Skills'].apply(lambda x: x.split(', ')) "
   ]
  },
  {
   "cell_type": "code",
   "execution_count": 4,
   "id": "027fb290-cba5-4fc0-92a5-b7667bcd8362",
   "metadata": {},
   "outputs": [],
   "source": [
    "from sklearn.preprocessing import MultiLabelBinarizer, StandardScaler"
   ]
  },
  {
   "cell_type": "code",
   "execution_count": 5,
   "id": "5215dad5-ed0d-45c9-8b0f-a9d6f857fbde",
   "metadata": {},
   "outputs": [],
   "source": [
    "mlb_zoho = MultiLabelBinarizer()\n",
    "skills_encoded = pd.DataFrame(mlb_zoho.fit_transform(df['Skills']), columns=mlb_zoho.classes_, index=df.index)"
   ]
  },
  {
   "cell_type": "code",
   "execution_count": 6,
   "id": "dcef3580-754a-4598-ac04-6f312b58aaa8",
   "metadata": {},
   "outputs": [],
   "source": [
    "numerical_data = df[['CGPA','Prior_Internship_Experience(Integer)','Aptitude_Score','Communication_Skill_Score(out_of_10)','Gender','Student_Department']]"
   ]
  },
  {
   "cell_type": "code",
   "execution_count": 7,
   "id": "eefa5587-5e15-43bf-9aa9-787827285063",
   "metadata": {},
   "outputs": [],
   "source": [
    "X = pd.concat([numerical_data, skills_encoded], axis=1)"
   ]
  },
  {
   "cell_type": "code",
   "execution_count": 8,
   "id": "faa4e36c-2a44-48d1-967e-e262e3942200",
   "metadata": {},
   "outputs": [
    {
     "name": "stdout",
     "output_type": "stream",
     "text": [
      "<class 'pandas.core.frame.DataFrame'>\n",
      "RangeIndex: 600 entries, 0 to 599\n",
      "Data columns (total 12 columns):\n",
      " #   Column                                Non-Null Count  Dtype  \n",
      "---  ------                                --------------  -----  \n",
      " 0   Gender                                600 non-null    object \n",
      " 1   CGPA                                  600 non-null    float64\n",
      " 2   Skills                                600 non-null    object \n",
      " 3   Student_Department                    600 non-null    object \n",
      " 4   Prior_Internship_Experience(Integer)  600 non-null    int64  \n",
      " 5   Aptitude_Score                        600 non-null    int64  \n",
      " 6   Communication_Skill_Score(out_of_10)  600 non-null    float64\n",
      " 7   Zoho_hired                            600 non-null    object \n",
      " 8   Accenture_hired                       600 non-null    object \n",
      " 9   IBM_hired                             600 non-null    object \n",
      " 10  Cognizant_hired                       600 non-null    object \n",
      " 11  Knows Coding Language                 600 non-null    object \n",
      "dtypes: float64(2), int64(2), object(8)\n",
      "memory usage: 56.4+ KB\n"
     ]
    }
   ],
   "source": [
    "df.info()"
   ]
  },
  {
   "cell_type": "code",
   "execution_count": 9,
   "id": "0f70897d-a592-4219-9901-eab2aeae1009",
   "metadata": {},
   "outputs": [
    {
     "data": {
      "text/plain": [
       "(600, 14)"
      ]
     },
     "execution_count": 9,
     "metadata": {},
     "output_type": "execute_result"
    }
   ],
   "source": [
    "X.shape"
   ]
  },
  {
   "cell_type": "code",
   "execution_count": 10,
   "id": "634a4fb0-fc4f-4be2-b824-c1cb95d36ff3",
   "metadata": {},
   "outputs": [
    {
     "data": {
      "text/html": [
       "<div>\n",
       "<style scoped>\n",
       "    .dataframe tbody tr th:only-of-type {\n",
       "        vertical-align: middle;\n",
       "    }\n",
       "\n",
       "    .dataframe tbody tr th {\n",
       "        vertical-align: top;\n",
       "    }\n",
       "\n",
       "    .dataframe thead th {\n",
       "        text-align: right;\n",
       "    }\n",
       "</style>\n",
       "<table border=\"1\" class=\"dataframe\">\n",
       "  <thead>\n",
       "    <tr style=\"text-align: right;\">\n",
       "      <th></th>\n",
       "      <th>CGPA</th>\n",
       "      <th>Prior_Internship_Experience(Integer)</th>\n",
       "      <th>Aptitude_Score</th>\n",
       "      <th>Communication_Skill_Score(out_of_10)</th>\n",
       "      <th>Gender</th>\n",
       "      <th>Student_Department</th>\n",
       "      <th>C++</th>\n",
       "      <th>Communication</th>\n",
       "      <th>HTML/CSS</th>\n",
       "      <th>Java</th>\n",
       "      <th>JavaScript</th>\n",
       "      <th>Problem Solving</th>\n",
       "      <th>Python</th>\n",
       "      <th>Teamwork</th>\n",
       "    </tr>\n",
       "  </thead>\n",
       "  <tbody>\n",
       "    <tr>\n",
       "      <th>0</th>\n",
       "      <td>7.6</td>\n",
       "      <td>2</td>\n",
       "      <td>95</td>\n",
       "      <td>4.5</td>\n",
       "      <td>Female</td>\n",
       "      <td>MECH</td>\n",
       "      <td>1</td>\n",
       "      <td>1</td>\n",
       "      <td>0</td>\n",
       "      <td>1</td>\n",
       "      <td>0</td>\n",
       "      <td>1</td>\n",
       "      <td>0</td>\n",
       "      <td>0</td>\n",
       "    </tr>\n",
       "    <tr>\n",
       "      <th>1</th>\n",
       "      <td>7.6</td>\n",
       "      <td>1</td>\n",
       "      <td>98</td>\n",
       "      <td>4.9</td>\n",
       "      <td>Female</td>\n",
       "      <td>ECE</td>\n",
       "      <td>0</td>\n",
       "      <td>1</td>\n",
       "      <td>0</td>\n",
       "      <td>1</td>\n",
       "      <td>0</td>\n",
       "      <td>1</td>\n",
       "      <td>1</td>\n",
       "      <td>0</td>\n",
       "    </tr>\n",
       "    <tr>\n",
       "      <th>2</th>\n",
       "      <td>9.0</td>\n",
       "      <td>2</td>\n",
       "      <td>65</td>\n",
       "      <td>7.7</td>\n",
       "      <td>Female</td>\n",
       "      <td>AI &amp; DS</td>\n",
       "      <td>1</td>\n",
       "      <td>0</td>\n",
       "      <td>1</td>\n",
       "      <td>1</td>\n",
       "      <td>0</td>\n",
       "      <td>1</td>\n",
       "      <td>0</td>\n",
       "      <td>0</td>\n",
       "    </tr>\n",
       "    <tr>\n",
       "      <th>3</th>\n",
       "      <td>8.7</td>\n",
       "      <td>1</td>\n",
       "      <td>85</td>\n",
       "      <td>5.0</td>\n",
       "      <td>Female</td>\n",
       "      <td>CSBS</td>\n",
       "      <td>1</td>\n",
       "      <td>1</td>\n",
       "      <td>0</td>\n",
       "      <td>0</td>\n",
       "      <td>0</td>\n",
       "      <td>0</td>\n",
       "      <td>0</td>\n",
       "      <td>0</td>\n",
       "    </tr>\n",
       "    <tr>\n",
       "      <th>4</th>\n",
       "      <td>7.9</td>\n",
       "      <td>0</td>\n",
       "      <td>51</td>\n",
       "      <td>6.0</td>\n",
       "      <td>Male</td>\n",
       "      <td>CSBS</td>\n",
       "      <td>0</td>\n",
       "      <td>1</td>\n",
       "      <td>1</td>\n",
       "      <td>1</td>\n",
       "      <td>0</td>\n",
       "      <td>0</td>\n",
       "      <td>0</td>\n",
       "      <td>0</td>\n",
       "    </tr>\n",
       "    <tr>\n",
       "      <th>...</th>\n",
       "      <td>...</td>\n",
       "      <td>...</td>\n",
       "      <td>...</td>\n",
       "      <td>...</td>\n",
       "      <td>...</td>\n",
       "      <td>...</td>\n",
       "      <td>...</td>\n",
       "      <td>...</td>\n",
       "      <td>...</td>\n",
       "      <td>...</td>\n",
       "      <td>...</td>\n",
       "      <td>...</td>\n",
       "      <td>...</td>\n",
       "      <td>...</td>\n",
       "    </tr>\n",
       "    <tr>\n",
       "      <th>595</th>\n",
       "      <td>6.3</td>\n",
       "      <td>1</td>\n",
       "      <td>75</td>\n",
       "      <td>6.0</td>\n",
       "      <td>Female</td>\n",
       "      <td>CSBS</td>\n",
       "      <td>0</td>\n",
       "      <td>1</td>\n",
       "      <td>0</td>\n",
       "      <td>0</td>\n",
       "      <td>1</td>\n",
       "      <td>0</td>\n",
       "      <td>0</td>\n",
       "      <td>1</td>\n",
       "    </tr>\n",
       "    <tr>\n",
       "      <th>596</th>\n",
       "      <td>8.5</td>\n",
       "      <td>2</td>\n",
       "      <td>50</td>\n",
       "      <td>9.2</td>\n",
       "      <td>Female</td>\n",
       "      <td>AI &amp; ML</td>\n",
       "      <td>0</td>\n",
       "      <td>0</td>\n",
       "      <td>0</td>\n",
       "      <td>0</td>\n",
       "      <td>0</td>\n",
       "      <td>0</td>\n",
       "      <td>1</td>\n",
       "      <td>0</td>\n",
       "    </tr>\n",
       "    <tr>\n",
       "      <th>597</th>\n",
       "      <td>7.0</td>\n",
       "      <td>2</td>\n",
       "      <td>59</td>\n",
       "      <td>6.1</td>\n",
       "      <td>Male</td>\n",
       "      <td>AI &amp; DS</td>\n",
       "      <td>0</td>\n",
       "      <td>0</td>\n",
       "      <td>1</td>\n",
       "      <td>0</td>\n",
       "      <td>1</td>\n",
       "      <td>1</td>\n",
       "      <td>0</td>\n",
       "      <td>0</td>\n",
       "    </tr>\n",
       "    <tr>\n",
       "      <th>598</th>\n",
       "      <td>8.0</td>\n",
       "      <td>2</td>\n",
       "      <td>65</td>\n",
       "      <td>9.8</td>\n",
       "      <td>Female</td>\n",
       "      <td>AI &amp; DS</td>\n",
       "      <td>0</td>\n",
       "      <td>1</td>\n",
       "      <td>0</td>\n",
       "      <td>0</td>\n",
       "      <td>0</td>\n",
       "      <td>0</td>\n",
       "      <td>0</td>\n",
       "      <td>0</td>\n",
       "    </tr>\n",
       "    <tr>\n",
       "      <th>599</th>\n",
       "      <td>9.7</td>\n",
       "      <td>1</td>\n",
       "      <td>62</td>\n",
       "      <td>9.2</td>\n",
       "      <td>Male</td>\n",
       "      <td>AI &amp; ML</td>\n",
       "      <td>0</td>\n",
       "      <td>0</td>\n",
       "      <td>1</td>\n",
       "      <td>0</td>\n",
       "      <td>0</td>\n",
       "      <td>0</td>\n",
       "      <td>0</td>\n",
       "      <td>1</td>\n",
       "    </tr>\n",
       "  </tbody>\n",
       "</table>\n",
       "<p>600 rows × 14 columns</p>\n",
       "</div>"
      ],
      "text/plain": [
       "     CGPA  Prior_Internship_Experience(Integer)  Aptitude_Score  \\\n",
       "0     7.6                                     2              95   \n",
       "1     7.6                                     1              98   \n",
       "2     9.0                                     2              65   \n",
       "3     8.7                                     1              85   \n",
       "4     7.9                                     0              51   \n",
       "..    ...                                   ...             ...   \n",
       "595   6.3                                     1              75   \n",
       "596   8.5                                     2              50   \n",
       "597   7.0                                     2              59   \n",
       "598   8.0                                     2              65   \n",
       "599   9.7                                     1              62   \n",
       "\n",
       "     Communication_Skill_Score(out_of_10)  Gender Student_Department  C++  \\\n",
       "0                                     4.5  Female               MECH    1   \n",
       "1                                     4.9  Female                ECE    0   \n",
       "2                                     7.7  Female            AI & DS    1   \n",
       "3                                     5.0  Female               CSBS    1   \n",
       "4                                     6.0    Male               CSBS    0   \n",
       "..                                    ...     ...                ...  ...   \n",
       "595                                   6.0  Female               CSBS    0   \n",
       "596                                   9.2  Female            AI & ML    0   \n",
       "597                                   6.1    Male            AI & DS    0   \n",
       "598                                   9.8  Female            AI & DS    0   \n",
       "599                                   9.2    Male            AI & ML    0   \n",
       "\n",
       "     Communication  HTML/CSS  Java  JavaScript  Problem Solving  Python  \\\n",
       "0                1         0     1           0                1       0   \n",
       "1                1         0     1           0                1       1   \n",
       "2                0         1     1           0                1       0   \n",
       "3                1         0     0           0                0       0   \n",
       "4                1         1     1           0                0       0   \n",
       "..             ...       ...   ...         ...              ...     ...   \n",
       "595              1         0     0           1                0       0   \n",
       "596              0         0     0           0                0       1   \n",
       "597              0         1     0           1                1       0   \n",
       "598              1         0     0           0                0       0   \n",
       "599              0         1     0           0                0       0   \n",
       "\n",
       "     Teamwork  \n",
       "0           0  \n",
       "1           0  \n",
       "2           0  \n",
       "3           0  \n",
       "4           0  \n",
       "..        ...  \n",
       "595         1  \n",
       "596         0  \n",
       "597         0  \n",
       "598         0  \n",
       "599         1  \n",
       "\n",
       "[600 rows x 14 columns]"
      ]
     },
     "execution_count": 10,
     "metadata": {},
     "output_type": "execute_result"
    }
   ],
   "source": [
    "X"
   ]
  },
  {
   "cell_type": "code",
   "execution_count": 11,
   "id": "7c5545e2-1a19-4a79-939a-4d1b5c5236bf",
   "metadata": {},
   "outputs": [],
   "source": [
    "#df = pd.concat([df, skills_encoded], axis=1)"
   ]
  },
  {
   "cell_type": "code",
   "execution_count": 12,
   "id": "38ad3481-1a2e-4de3-9c6d-6a530a11eda3",
   "metadata": {},
   "outputs": [],
   "source": [
    "#df.head(2)"
   ]
  },
  {
   "cell_type": "code",
   "execution_count": 13,
   "id": "c987af85-92c9-4277-9b46-e1fb2fb38f5b",
   "metadata": {},
   "outputs": [],
   "source": [
    "label_encoder = LabelEncoder()\n",
    "df['Zoho_hired'] = label_encoder.fit_transform(df['Zoho_hired'])"
   ]
  },
  {
   "cell_type": "code",
   "execution_count": 14,
   "id": "a882e3ba-faf5-44c0-b6ba-694a26733dec",
   "metadata": {},
   "outputs": [],
   "source": [
    "#input features\n",
    "#X = df.drop(['Zoho_hired', 'Skills','Knows Coding Language','Accenture_hired','IBM_hired','Cognizant_hired'], axis=1)  # Drop unnecessary columns for X\n",
    "#output feature\n",
    "y = df['Zoho_hired'] "
   ]
  },
  {
   "cell_type": "code",
   "execution_count": 15,
   "id": "9ad52320-410c-4e5b-be0f-e66a28b36d06",
   "metadata": {},
   "outputs": [
    {
     "data": {
      "text/plain": [
       "(600, 14)"
      ]
     },
     "execution_count": 15,
     "metadata": {},
     "output_type": "execute_result"
    }
   ],
   "source": [
    "X.shape"
   ]
  },
  {
   "cell_type": "code",
   "execution_count": 16,
   "id": "6421ad9a-3278-4ad8-b277-2c8d837c33af",
   "metadata": {},
   "outputs": [],
   "source": [
    "from sklearn.preprocessing import OneHotEncoder, StandardScaler\n",
    "from sklearn.compose import ColumnTransformer"
   ]
  },
  {
   "cell_type": "code",
   "execution_count": 17,
   "id": "e58661a7-60e0-4852-909d-9a3d6f8eb21b",
   "metadata": {},
   "outputs": [],
   "source": [
    "ct = ColumnTransformer(transformers=[('encoder', OneHotEncoder(), [4,5])], remainder='passthrough')"
   ]
  },
  {
   "cell_type": "code",
   "execution_count": 18,
   "id": "bb22f998-3c7d-4d8c-9d77-28b524ff0e90",
   "metadata": {},
   "outputs": [],
   "source": [
    "import numpy as np"
   ]
  },
  {
   "cell_type": "code",
   "execution_count": 19,
   "id": "d8867ee7-fe77-4d98-99fb-d2f3b4f3642b",
   "metadata": {},
   "outputs": [],
   "source": [
    "X = np.array(ct.fit_transform(X))"
   ]
  },
  {
   "cell_type": "code",
   "execution_count": 20,
   "id": "aa256add-2bbd-401c-8b2a-8f3ffe71aa6d",
   "metadata": {},
   "outputs": [
    {
     "data": {
      "text/plain": [
       "array([[1., 0., 0., ..., 1., 0., 0.],\n",
       "       [1., 0., 0., ..., 1., 1., 0.],\n",
       "       [1., 0., 1., ..., 1., 0., 0.],\n",
       "       ...,\n",
       "       [0., 1., 1., ..., 1., 0., 0.],\n",
       "       [1., 0., 1., ..., 0., 0., 0.],\n",
       "       [0., 1., 0., ..., 0., 0., 1.]])"
      ]
     },
     "execution_count": 20,
     "metadata": {},
     "output_type": "execute_result"
    }
   ],
   "source": [
    "X"
   ]
  },
  {
   "cell_type": "code",
   "execution_count": 21,
   "id": "26d747f8-dfca-4eb5-b54e-9d64bb2a94bb",
   "metadata": {},
   "outputs": [],
   "source": [
    "from sklearn.preprocessing import StandardScaler"
   ]
  },
  {
   "cell_type": "code",
   "execution_count": 22,
   "id": "3efdfeca-0d0d-41a7-a0b4-ed7c1ccc0da5",
   "metadata": {},
   "outputs": [],
   "source": [
    "scaler = StandardScaler()\n",
    "X_scaled = scaler.fit_transform(X)"
   ]
  },
  {
   "cell_type": "code",
   "execution_count": 23,
   "id": "5f5903a9-be29-49f0-92ce-ac42ad7fd0e0",
   "metadata": {},
   "outputs": [
    {
     "data": {
      "text/plain": [
       "array([[ 0.95437311, -0.95437311, -0.43643578, ...,  1.46333908,\n",
       "        -0.63651569, -0.69388867],\n",
       "       [ 0.95437311, -0.95437311, -0.43643578, ...,  1.46333908,\n",
       "         1.57105318, -0.69388867],\n",
       "       [ 0.95437311, -0.95437311,  2.29128785, ...,  1.46333908,\n",
       "        -0.63651569, -0.69388867],\n",
       "       ...,\n",
       "       [-1.04780824,  1.04780824,  2.29128785, ...,  1.46333908,\n",
       "        -0.63651569, -0.69388867],\n",
       "       [ 0.95437311, -0.95437311,  2.29128785, ..., -0.68336862,\n",
       "        -0.63651569, -0.69388867],\n",
       "       [-1.04780824,  1.04780824, -0.43643578, ..., -0.68336862,\n",
       "        -0.63651569,  1.44115338]])"
      ]
     },
     "execution_count": 23,
     "metadata": {},
     "output_type": "execute_result"
    }
   ],
   "source": [
    "X_scaled"
   ]
  },
  {
   "cell_type": "code",
   "execution_count": 24,
   "id": "308f4be1-a182-4b49-8162-0d715b435e54",
   "metadata": {},
   "outputs": [],
   "source": [
    "X_train,X_test,y_train,y_test = train_test_split(X_scaled,y,test_size=0.2,random_state=42)"
   ]
  },
  {
   "cell_type": "code",
   "execution_count": 25,
   "id": "19f4ba20-5a85-48f3-9a62-2d03d3dba0fd",
   "metadata": {},
   "outputs": [],
   "source": [
    "classifier = RandomForestClassifier(random_state=42)\n",
    "classifier.fit(X_train, y_train)\n",
    "y_pred = classifier.predict(X_test)"
   ]
  },
  {
   "cell_type": "code",
   "execution_count": 26,
   "id": "28cbff6a-807b-437d-b7d6-6d4ae19f601f",
   "metadata": {},
   "outputs": [],
   "source": [
    "y_pred = classifier.predict(X_test)"
   ]
  },
  {
   "cell_type": "code",
   "execution_count": 27,
   "id": "1358addb-4621-43bb-874c-ebde98473c5c",
   "metadata": {},
   "outputs": [],
   "source": [
    "from sklearn.metrics import accuracy_score, classification_report"
   ]
  },
  {
   "cell_type": "code",
   "execution_count": 28,
   "id": "be9ce076-dc96-4a12-b3ef-ebd5f3158ff0",
   "metadata": {},
   "outputs": [
    {
     "name": "stdout",
     "output_type": "stream",
     "text": [
      "Accuracy: 0.93\n"
     ]
    }
   ],
   "source": [
    "accuracy = accuracy_score(y_test, y_pred)\n",
    "print(f\"Accuracy: {accuracy:.2f}\")"
   ]
  },
  {
   "cell_type": "code",
   "execution_count": 29,
   "id": "a783f8e4-6168-4cad-af87-c0792d8d633e",
   "metadata": {},
   "outputs": [],
   "source": [
    "import joblib"
   ]
  },
  {
   "cell_type": "code",
   "execution_count": 30,
   "id": "71fed189-e44a-41ad-9765-009e6c5635de",
   "metadata": {},
   "outputs": [
    {
     "data": {
      "text/plain": [
       "['Zoho.pkl']"
      ]
     },
     "execution_count": 30,
     "metadata": {},
     "output_type": "execute_result"
    }
   ],
   "source": [
    "joblib.dump(classifier, 'Zoho.pkl')"
   ]
  },
  {
   "cell_type": "code",
   "execution_count": 31,
   "id": "3cf68856-d309-4431-9161-5fc4022edb8c",
   "metadata": {},
   "outputs": [
    {
     "data": {
      "text/plain": [
       "['mlb_zoho.pkl']"
      ]
     },
     "execution_count": 31,
     "metadata": {},
     "output_type": "execute_result"
    }
   ],
   "source": [
    "joblib.dump(mlb_zoho, 'mlb_zoho.pkl')"
   ]
  },
  {
   "cell_type": "code",
   "execution_count": null,
   "id": "8051d4de-ba79-4168-81cb-fd0e95231a01",
   "metadata": {},
   "outputs": [],
   "source": []
  }
 ],
 "metadata": {
  "kernelspec": {
   "display_name": "Python 3",
   "language": "python",
   "name": "python3"
  },
  "language_info": {
   "codemirror_mode": {
    "name": "ipython",
    "version": 3
   },
   "file_extension": ".py",
   "mimetype": "text/x-python",
   "name": "python",
   "nbconvert_exporter": "python",
   "pygments_lexer": "ipython3",
   "version": "3.11.2"
  }
 },
 "nbformat": 4,
 "nbformat_minor": 5
}
