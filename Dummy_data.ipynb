{
 "cells": [
  {
   "cell_type": "code",
   "execution_count": 1,
   "id": "0152dd2b-bb0a-497a-8ab5-70ec2df70af7",
   "metadata": {},
   "outputs": [],
   "source": [
    "import pandas as pd\n",
    "import random"
   ]
  },
  {
   "cell_type": "code",
   "execution_count": 5,
   "id": "f341d293-1528-4807-8d5b-92d91d68f926",
   "metadata": {},
   "outputs": [],
   "source": [
    "names =[\"Aarav\", \"Abhay\", \"Abhinav\", \"Adhira\", \"Aditya\", \"Akilan\", \"Akshara\", \"Amala\", \"Ananya\", \"Anand\", \"Ananya\", \"Anbu\", \"Anika\", \"Anjali\", \"Anju\", \"Anusha\", \"Arjun\", \"Arvind\", \"Arya\", \"Ashok\", \"Ayesha\", \"Bala\", \"Balaji\", \"Bhuvan\", \"Bhavani\", \"Bhavana\", \"Chitra\", \"Charan\", \"Charu\", \"Dhanush\", \"Deepa\", \"Devi\", \"Dinesh\", \"Divya\", \"Eashwar\", \"Eesha\", \"Elango\", \"Ezhil\", \"Farah\", \"Faiza\", \"Ganesh\", \"Gayatri\", \"Geetha\", \"Gopal\", \"Gowri\", \"Hema\", \"Harini\", \"Harsha\", \"Hemant\", \"Indra\", \"Ishaan\", \"Ishita\", \"Jaya\", \"Janani\", \"Jayant\", \"Jeeva\", \"Jyothi\", \"Kalyan\", \"Karthik\", \"Kavya\", \"Keerthi\", \"Kiran\", \"Kishore\", \"Krishna\", \"Kumaran\", \"Lakshmi\", \"Lavanya\", \"Latha\", \"Leela\", \"Lokesh\", \"Madhavan\", \"Madhu\", \"Manoj\", \"Manisha\", \"Meena\", \"Meera\", \"Mohan\", \"Murali\", \"Mythili\", \"Nandan\", \"Nandini\", \"Naveen\", \"Neela\", \"Neeraj\", \"Nidhi\", \"Nisha\", \"Nithya\", \"Oviya\", \"Omar\", \"Padma\", \"Pooja\", \"Prakash\", \"Pranav\", \"Priya\", \"Rajesh\", \"Ramya\", \"Ravi\", \"Rekha\", \"Rohit\", \"Rohan\", \"Rukmani\", \"Saanvi\", \"Sahana\", \"Sai\", \"Sairam\", \"Sandhya\", \"Sanjay\", \"Sanya\", \"Saravanan\", \"Sarika\", \"Saroja\", \"Sathya\", \"Senthil\", \"Shankar\", \"Shanti\", \"Shashi\", \"Shreya\", \"Shyam\", \"Sindhu\", \"Sneha\", \"Srinivasan\", \"Subash\", \"Sudeep\", \"Sudha\", \"Suhasini\", \"Suman\", \"Surya\", \"Swathi\", \"Tarun\", \"Tejas\", \"Tharun\", \"Uday\", \"Uma\", \"Usha\", \"Vaishnavi\", \"Varun\", \"Vasudha\", \"Vidya\", \"Vikram\", \"Vishnu\", \"Yamini\", \"Yasmin\", \"Yash\", \"Yogesh\", \"Zara\", \"Akash\", \"Aravind\", \"Arun\", \"Ashwin\", \"Bala\", \"Bhargavi\", \"Chandan\", \"Chitra\", \"Daksha\", \"Dinesh\", \"Ditya\", \"Eesha\", \"Eshan\", \"Fathima\", \"Gayathri\", \"Girish\", \"Haritha\", \"Hari\", \"Indira\", \"Ishwari\", \"Jai\", \"Jayalakshmi\", \"Jayasri\", \"Jyoti\", \"Kalyani\", \"Kavi\", \"Kishan\", \"Lalitha\", \"Madhavi\", \"Mani\", \"Manju\", \"Meenal\", \"Mohini\", \"Nanditha\", \"Naveena\", \"Neha\", \"Nila\", \"Nisha\", \"Nithin\", \"Padmini\", \"Parvati\", \"Pavithra\", \"Preethi\", \"Priyanka\", \"Radhika\", \"Rajini\", \"Rajiv\", \"Rani\", \"Revathi\", \"Rohini\", \"Sahana\", \"Sai\", \"Saira\", \"Sandhya\", \"Sarika\", \"Sarita\", \"Seetha\", \"Shivani\", \"Shreya\", \"Shruthi\", \"Snehal\", \"Sridhar\", \"Sudhir\", \"Suma\", \"Sumathi\", \"Sunil\", \"Suresh\", \"Swetha\", \"Tanya\", \"Teja\", \"Tejaswini\", \"Uma\", \"Vaibhav\", \"Vani\", \"Vasanth\", \"Vedika\", \"Veena\", \"Vidya\", \"Vikash\", \"Vinay\", \"Vinitha\", \"Vinod\", \"Yashika\", \"Akilan\", \"Anbarasu\", \"Anitha\", \"Anirudh\", \"Anitha\", \"Anu\", \"Arjun\", \"Arunachalam\", \"Asha\", \"Ashwini\", \"Bala\", \"Balakrishnan\", \"Balamurugan\", \"Banumathi\", \"Bharathi\", \"Bhaskaran\", \"Bhavani\", \"Bhavna\", \"Chithra\", \"Chitra\", \"Daksha\", \"Deivanai\", \"Deepak\", \"Deepika\", \"Deva\", \"Devi\", \"Dhanya\", \"Dhivya\", \"Dilip\", \"Divakar\", \"Durgadevi\", \"Eashwar\", \"Elavarasan\", \"Eshwari\", \"Eswaran\", \"Eswari\", \"Gayathri\", \"Gayathri\", \"Geethalakshmi\", \"Geetha\", \"Giri\", \"Gokul\", \"Gomathi\", \"Gomathy\", \"Gowtham\", \"Haritha\"]"
   ]
  },
  {
   "cell_type": "code",
   "execution_count": 6,
   "id": "20c35d22-b982-4d41-873e-967d2e3968bc",
   "metadata": {},
   "outputs": [],
   "source": [
    "skills = [\"Python\", \"Java\", \"Data Structures\", \"C++\", \"SQL\", \"Machine Learning\", \"JavaScript\", \"Cloud Computing\",\"PHP\", \"Networking\", \"Data Science\", \"AI\", \"HTML\", \"CSS\", \"React\", \"Cybersecurity\", \"DevOps\", \"Database Management\",\"Teamwork\", \"Communication\", \"Leadership\", \"Time Management\", \"Problem Solving\", \"Creativity\", \"Adaptability\",\"Critical Thinking\", \"Collaboration\", \"Work Ethic\"]"
   ]
  },
  {
   "cell_type": "code",
   "execution_count": 7,
   "id": "9550fc9c-49e2-4423-a19b-f1d9704f076a",
   "metadata": {},
   "outputs": [],
   "source": [
    "companies = [\"Google\", \"Microsoft\", \"Amazon\", \"Infosys\", \"TCS\", \"IBM\", \"Wipro\", \"Cognizant\", \"Accenture\", \"Facebook\"]"
   ]
  },
  {
   "cell_type": "code",
   "execution_count": 8,
   "id": "0b6b5309-6587-42fb-89c3-2be7d2473616",
   "metadata": {},
   "outputs": [],
   "source": [
    "genders = [\"Male\", \"Female\"]"
   ]
  },
  {
   "cell_type": "code",
   "execution_count": 16,
   "id": "93322cee-efeb-4145-b2de-960ef046e902",
   "metadata": {},
   "outputs": [],
   "source": [
    "departments = [\"CSBS\", \"CSE\", \"ECE\", \"CCE\", \"MECH\", \"AI&DS\", \"AI&ML\"]"
   ]
  },
  {
   "cell_type": "code",
   "execution_count": 10,
   "id": "a5076038-1314-4d4d-a46a-7827d100c3fc",
   "metadata": {},
   "outputs": [],
   "source": [
    "#generate skills column\n",
    "def skills_column():\n",
    "    return ','.join(random.sample(skills, k=4))"
   ]
  },
  {
   "cell_type": "code",
   "execution_count": 12,
   "id": "30aaaa93-172b-4592-bc36-1da8c7cffd33",
   "metadata": {},
   "outputs": [],
   "source": [
    "def companies_column():\n",
    "    attended = random.sample(companies, k=random.randint(3, 6))\n",
    "    selected = random.sample(attended, k=random.randint(1, len(attended)))\n",
    "    return attended,selected"
   ]
  },
  {
   "cell_type": "code",
   "execution_count": 14,
   "id": "9a54d752-31f4-4dc1-9f01-049740f8fd8c",
   "metadata": {},
   "outputs": [],
   "source": [
    "def y_n():\n",
    "    return random.choice(['yes','no'])"
   ]
  },
  {
   "cell_type": "code",
   "execution_count": 17,
   "id": "2753a680-6222-4cae-8cf6-af0402a95d60",
   "metadata": {},
   "outputs": [],
   "source": [
    "while len(names) < 1000:\n",
    "    new_names = [name + str(i) for i, name in enumerate(names, start=1)]\n",
    "    names.extend(new_names)\n",
    "names = names[:1000]"
   ]
  },
  {
   "cell_type": "code",
   "execution_count": 21,
   "id": "198f75a3-5b19-4dc0-b13a-abe02db57c74",
   "metadata": {},
   "outputs": [],
   "source": [
    "data = []\n",
    "for name in names:\n",
    "    gender = random.choice(genders)\n",
    "    cgpa = round(random.uniform(7.0,9.8),1)\n",
    "    students_skills = skills_column()\n",
    "    interviews_attended = random.randint(3,6)\n",
    "    interviewed_with, selected_in = companies_column()\n",
    "    department = random.sample(departments, k=1)\n",
    "    history_of_arrears = y_n()\n",
    "    prior_internship_experience =  y_n()\n",
    "    data.append([name, gender, cgpa, students_skills, interviews_attended,interviewed_with,department, history_of_arrears,prior_internship_experience,selected_in])"
   ]
  },
  {
   "cell_type": "code",
   "execution_count": 22,
   "id": "49a78835-c5fa-4e9d-b627-5b8247ad75e1",
   "metadata": {},
   "outputs": [],
   "source": [
    "df = pd.DataFrame(data, columns=[\"Student Name\",\"Gender\",\"CGPA\",\"Skills\",\"Interviews Attended\",\"Companies Interviewed With\",\"Student Department\",\"History of Arrears\",\"Prior Internship Experience\",\"Companies Selected In\"])"
   ]
  },
  {
   "cell_type": "code",
   "execution_count": 23,
   "id": "30f3ca96-baf2-4d99-91a7-0bc530a8bb58",
   "metadata": {},
   "outputs": [],
   "source": [
    "df.to_csv(\"students_placement_data.csv\", index=False)"
   ]
  },
  {
   "cell_type": "code",
   "execution_count": null,
   "id": "b97ee71b-b7f4-427b-95f2-8f5f864133e2",
   "metadata": {},
   "outputs": [],
   "source": []
  }
 ],
 "metadata": {
  "kernelspec": {
   "display_name": "Python 3 (ipykernel)",
   "language": "python",
   "name": "python3"
  },
  "language_info": {
   "codemirror_mode": {
    "name": "ipython",
    "version": 3
   },
   "file_extension": ".py",
   "mimetype": "text/x-python",
   "name": "python",
   "nbconvert_exporter": "python",
   "pygments_lexer": "ipython3",
   "version": "3.11.2"
  }
 },
 "nbformat": 4,
 "nbformat_minor": 5
}
