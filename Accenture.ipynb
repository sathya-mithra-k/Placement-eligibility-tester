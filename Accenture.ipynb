{
 "cells": [
  {
   "cell_type": "code",
   "execution_count": 21,
   "id": "61c70f43-1226-49e3-89ff-80cd8e42baf2",
   "metadata": {},
   "outputs": [],
   "source": [
    "import pandas as pd\n",
    "import numpy as np\n",
    "from sklearn.preprocessing import LabelEncoder, MultiLabelBinarizer, StandardScaler, OneHotEncoder\n",
    "from sklearn.compose import ColumnTransformer\n",
    "from sklearn.model_selection import train_test_split\n",
    "from sklearn.ensemble import RandomForestClassifier\n",
    "from sklearn.metrics import accuracy_score, classification_report"
   ]
  },
  {
   "cell_type": "code",
   "execution_count": 22,
   "id": "3072f6d4-f477-4ffc-8367-8400659f558a",
   "metadata": {},
   "outputs": [],
   "source": [
    "df = pd.read_csv('student_dataset.csv')"
   ]
  },
  {
   "cell_type": "code",
   "execution_count": 23,
   "id": "e1c02368-439d-4064-aa50-f2d2f7a5d4a5",
   "metadata": {},
   "outputs": [],
   "source": [
    "df['Skills'] = df['Skills'].apply(lambda x: x.split(', ')) "
   ]
  },
  {
   "cell_type": "code",
   "execution_count": 24,
   "id": "68227777-ec72-4416-957b-4af131a27e82",
   "metadata": {},
   "outputs": [],
   "source": [
    "mlb_accenture = MultiLabelBinarizer()\n",
    "skills_encoded = pd.DataFrame(mlb_accenture.fit_transform(df['Skills']), columns=mlb_accenture.classes_, index=df.index)"
   ]
  },
  {
   "cell_type": "code",
   "execution_count": 25,
   "id": "839b77aa-f453-442c-972e-081978c68ebc",
   "metadata": {},
   "outputs": [],
   "source": [
    "df = pd.concat([df, skills_encoded], axis=1)"
   ]
  },
  {
   "cell_type": "code",
   "execution_count": 26,
   "id": "76d16ad0-8978-4ee3-a6f5-d11742343986",
   "metadata": {},
   "outputs": [
    {
     "name": "stdout",
     "output_type": "stream",
     "text": [
      "<class 'pandas.core.frame.DataFrame'>\n",
      "RangeIndex: 600 entries, 0 to 599\n",
      "Data columns (total 20 columns):\n",
      " #   Column                                Non-Null Count  Dtype  \n",
      "---  ------                                --------------  -----  \n",
      " 0   Gender                                600 non-null    object \n",
      " 1   CGPA                                  600 non-null    float64\n",
      " 2   Skills                                600 non-null    object \n",
      " 3   Student_Department                    600 non-null    object \n",
      " 4   Prior_Internship_Experience(Integer)  600 non-null    int64  \n",
      " 5   Aptitude_Score                        600 non-null    int64  \n",
      " 6   Communication_Skill_Score(out_of_10)  600 non-null    float64\n",
      " 7   Zoho_hired                            600 non-null    object \n",
      " 8   Accenture_hired                       600 non-null    object \n",
      " 9   IBM_hired                             600 non-null    object \n",
      " 10  Cognizant_hired                       600 non-null    object \n",
      " 11  Knows Coding Language                 600 non-null    object \n",
      " 12  C++                                   600 non-null    int32  \n",
      " 13  Communication                         600 non-null    int32  \n",
      " 14  HTML/CSS                              600 non-null    int32  \n",
      " 15  Java                                  600 non-null    int32  \n",
      " 16  JavaScript                            600 non-null    int32  \n",
      " 17  Problem Solving                       600 non-null    int32  \n",
      " 18  Python                                600 non-null    int32  \n",
      " 19  Teamwork                              600 non-null    int32  \n",
      "dtypes: float64(2), int32(8), int64(2), object(8)\n",
      "memory usage: 75.1+ KB\n"
     ]
    }
   ],
   "source": [
    "df.info()"
   ]
  },
  {
   "cell_type": "code",
   "execution_count": 27,
   "id": "48ad1f70-2cda-41b9-baef-3cca297c3a80",
   "metadata": {},
   "outputs": [],
   "source": [
    "label_encoder = LabelEncoder()\n",
    "df['Accenture_hired'] = label_encoder.fit_transform(df['Accenture_hired'])"
   ]
  },
  {
   "cell_type": "code",
   "execution_count": 28,
   "id": "46fc819b-63e2-417c-b267-0d5835b63abd",
   "metadata": {},
   "outputs": [],
   "source": [
    "X = df.drop(['Zoho_hired', 'Skills','Knows Coding Language','Accenture_hired','IBM_hired','Cognizant_hired'], axis=1)  \n",
    "y = df['Accenture_hired']"
   ]
  },
  {
   "cell_type": "code",
   "execution_count": 29,
   "id": "6e84b071-de93-4cdd-be7f-dd8213854719",
   "metadata": {},
   "outputs": [
    {
     "data": {
      "text/plain": [
       "(600, 14)"
      ]
     },
     "execution_count": 29,
     "metadata": {},
     "output_type": "execute_result"
    }
   ],
   "source": [
    "X.shape"
   ]
  },
  {
   "cell_type": "code",
   "execution_count": 30,
   "id": "74e9dba7-7c3b-4389-b777-e1c2feb881d8",
   "metadata": {},
   "outputs": [
    {
     "data": {
      "text/html": [
       "<div>\n",
       "<style scoped>\n",
       "    .dataframe tbody tr th:only-of-type {\n",
       "        vertical-align: middle;\n",
       "    }\n",
       "\n",
       "    .dataframe tbody tr th {\n",
       "        vertical-align: top;\n",
       "    }\n",
       "\n",
       "    .dataframe thead th {\n",
       "        text-align: right;\n",
       "    }\n",
       "</style>\n",
       "<table border=\"1\" class=\"dataframe\">\n",
       "  <thead>\n",
       "    <tr style=\"text-align: right;\">\n",
       "      <th></th>\n",
       "      <th>Gender</th>\n",
       "      <th>CGPA</th>\n",
       "      <th>Student_Department</th>\n",
       "      <th>Prior_Internship_Experience(Integer)</th>\n",
       "      <th>Aptitude_Score</th>\n",
       "      <th>Communication_Skill_Score(out_of_10)</th>\n",
       "      <th>C++</th>\n",
       "      <th>Communication</th>\n",
       "      <th>HTML/CSS</th>\n",
       "      <th>Java</th>\n",
       "      <th>JavaScript</th>\n",
       "      <th>Problem Solving</th>\n",
       "      <th>Python</th>\n",
       "      <th>Teamwork</th>\n",
       "    </tr>\n",
       "  </thead>\n",
       "  <tbody>\n",
       "    <tr>\n",
       "      <th>0</th>\n",
       "      <td>Female</td>\n",
       "      <td>7.6</td>\n",
       "      <td>MECH</td>\n",
       "      <td>2</td>\n",
       "      <td>95</td>\n",
       "      <td>4.5</td>\n",
       "      <td>1</td>\n",
       "      <td>1</td>\n",
       "      <td>0</td>\n",
       "      <td>1</td>\n",
       "      <td>0</td>\n",
       "      <td>1</td>\n",
       "      <td>0</td>\n",
       "      <td>0</td>\n",
       "    </tr>\n",
       "    <tr>\n",
       "      <th>1</th>\n",
       "      <td>Female</td>\n",
       "      <td>7.6</td>\n",
       "      <td>ECE</td>\n",
       "      <td>1</td>\n",
       "      <td>98</td>\n",
       "      <td>4.9</td>\n",
       "      <td>0</td>\n",
       "      <td>1</td>\n",
       "      <td>0</td>\n",
       "      <td>1</td>\n",
       "      <td>0</td>\n",
       "      <td>1</td>\n",
       "      <td>1</td>\n",
       "      <td>0</td>\n",
       "    </tr>\n",
       "    <tr>\n",
       "      <th>2</th>\n",
       "      <td>Female</td>\n",
       "      <td>9.0</td>\n",
       "      <td>AI &amp; DS</td>\n",
       "      <td>2</td>\n",
       "      <td>65</td>\n",
       "      <td>7.7</td>\n",
       "      <td>1</td>\n",
       "      <td>0</td>\n",
       "      <td>1</td>\n",
       "      <td>1</td>\n",
       "      <td>0</td>\n",
       "      <td>1</td>\n",
       "      <td>0</td>\n",
       "      <td>0</td>\n",
       "    </tr>\n",
       "    <tr>\n",
       "      <th>3</th>\n",
       "      <td>Female</td>\n",
       "      <td>8.7</td>\n",
       "      <td>CSBS</td>\n",
       "      <td>1</td>\n",
       "      <td>85</td>\n",
       "      <td>5.0</td>\n",
       "      <td>1</td>\n",
       "      <td>1</td>\n",
       "      <td>0</td>\n",
       "      <td>0</td>\n",
       "      <td>0</td>\n",
       "      <td>0</td>\n",
       "      <td>0</td>\n",
       "      <td>0</td>\n",
       "    </tr>\n",
       "    <tr>\n",
       "      <th>4</th>\n",
       "      <td>Male</td>\n",
       "      <td>7.9</td>\n",
       "      <td>CSBS</td>\n",
       "      <td>0</td>\n",
       "      <td>51</td>\n",
       "      <td>6.0</td>\n",
       "      <td>0</td>\n",
       "      <td>1</td>\n",
       "      <td>1</td>\n",
       "      <td>1</td>\n",
       "      <td>0</td>\n",
       "      <td>0</td>\n",
       "      <td>0</td>\n",
       "      <td>0</td>\n",
       "    </tr>\n",
       "    <tr>\n",
       "      <th>...</th>\n",
       "      <td>...</td>\n",
       "      <td>...</td>\n",
       "      <td>...</td>\n",
       "      <td>...</td>\n",
       "      <td>...</td>\n",
       "      <td>...</td>\n",
       "      <td>...</td>\n",
       "      <td>...</td>\n",
       "      <td>...</td>\n",
       "      <td>...</td>\n",
       "      <td>...</td>\n",
       "      <td>...</td>\n",
       "      <td>...</td>\n",
       "      <td>...</td>\n",
       "    </tr>\n",
       "    <tr>\n",
       "      <th>595</th>\n",
       "      <td>Female</td>\n",
       "      <td>6.3</td>\n",
       "      <td>CSBS</td>\n",
       "      <td>1</td>\n",
       "      <td>75</td>\n",
       "      <td>6.0</td>\n",
       "      <td>0</td>\n",
       "      <td>1</td>\n",
       "      <td>0</td>\n",
       "      <td>0</td>\n",
       "      <td>1</td>\n",
       "      <td>0</td>\n",
       "      <td>0</td>\n",
       "      <td>1</td>\n",
       "    </tr>\n",
       "    <tr>\n",
       "      <th>596</th>\n",
       "      <td>Female</td>\n",
       "      <td>8.5</td>\n",
       "      <td>AI &amp; ML</td>\n",
       "      <td>2</td>\n",
       "      <td>50</td>\n",
       "      <td>9.2</td>\n",
       "      <td>0</td>\n",
       "      <td>0</td>\n",
       "      <td>0</td>\n",
       "      <td>0</td>\n",
       "      <td>0</td>\n",
       "      <td>0</td>\n",
       "      <td>1</td>\n",
       "      <td>0</td>\n",
       "    </tr>\n",
       "    <tr>\n",
       "      <th>597</th>\n",
       "      <td>Male</td>\n",
       "      <td>7.0</td>\n",
       "      <td>AI &amp; DS</td>\n",
       "      <td>2</td>\n",
       "      <td>59</td>\n",
       "      <td>6.1</td>\n",
       "      <td>0</td>\n",
       "      <td>0</td>\n",
       "      <td>1</td>\n",
       "      <td>0</td>\n",
       "      <td>1</td>\n",
       "      <td>1</td>\n",
       "      <td>0</td>\n",
       "      <td>0</td>\n",
       "    </tr>\n",
       "    <tr>\n",
       "      <th>598</th>\n",
       "      <td>Female</td>\n",
       "      <td>8.0</td>\n",
       "      <td>AI &amp; DS</td>\n",
       "      <td>2</td>\n",
       "      <td>65</td>\n",
       "      <td>9.8</td>\n",
       "      <td>0</td>\n",
       "      <td>1</td>\n",
       "      <td>0</td>\n",
       "      <td>0</td>\n",
       "      <td>0</td>\n",
       "      <td>0</td>\n",
       "      <td>0</td>\n",
       "      <td>0</td>\n",
       "    </tr>\n",
       "    <tr>\n",
       "      <th>599</th>\n",
       "      <td>Male</td>\n",
       "      <td>9.7</td>\n",
       "      <td>AI &amp; ML</td>\n",
       "      <td>1</td>\n",
       "      <td>62</td>\n",
       "      <td>9.2</td>\n",
       "      <td>0</td>\n",
       "      <td>0</td>\n",
       "      <td>1</td>\n",
       "      <td>0</td>\n",
       "      <td>0</td>\n",
       "      <td>0</td>\n",
       "      <td>0</td>\n",
       "      <td>1</td>\n",
       "    </tr>\n",
       "  </tbody>\n",
       "</table>\n",
       "<p>600 rows × 14 columns</p>\n",
       "</div>"
      ],
      "text/plain": [
       "     Gender  CGPA Student_Department  Prior_Internship_Experience(Integer)  \\\n",
       "0    Female   7.6               MECH                                     2   \n",
       "1    Female   7.6                ECE                                     1   \n",
       "2    Female   9.0            AI & DS                                     2   \n",
       "3    Female   8.7               CSBS                                     1   \n",
       "4      Male   7.9               CSBS                                     0   \n",
       "..      ...   ...                ...                                   ...   \n",
       "595  Female   6.3               CSBS                                     1   \n",
       "596  Female   8.5            AI & ML                                     2   \n",
       "597    Male   7.0            AI & DS                                     2   \n",
       "598  Female   8.0            AI & DS                                     2   \n",
       "599    Male   9.7            AI & ML                                     1   \n",
       "\n",
       "     Aptitude_Score  Communication_Skill_Score(out_of_10)  C++  Communication  \\\n",
       "0                95                                   4.5    1              1   \n",
       "1                98                                   4.9    0              1   \n",
       "2                65                                   7.7    1              0   \n",
       "3                85                                   5.0    1              1   \n",
       "4                51                                   6.0    0              1   \n",
       "..              ...                                   ...  ...            ...   \n",
       "595              75                                   6.0    0              1   \n",
       "596              50                                   9.2    0              0   \n",
       "597              59                                   6.1    0              0   \n",
       "598              65                                   9.8    0              1   \n",
       "599              62                                   9.2    0              0   \n",
       "\n",
       "     HTML/CSS  Java  JavaScript  Problem Solving  Python  Teamwork  \n",
       "0           0     1           0                1       0         0  \n",
       "1           0     1           0                1       1         0  \n",
       "2           1     1           0                1       0         0  \n",
       "3           0     0           0                0       0         0  \n",
       "4           1     1           0                0       0         0  \n",
       "..        ...   ...         ...              ...     ...       ...  \n",
       "595         0     0           1                0       0         1  \n",
       "596         0     0           0                0       1         0  \n",
       "597         1     0           1                1       0         0  \n",
       "598         0     0           0                0       0         0  \n",
       "599         1     0           0                0       0         1  \n",
       "\n",
       "[600 rows x 14 columns]"
      ]
     },
     "execution_count": 30,
     "metadata": {},
     "output_type": "execute_result"
    }
   ],
   "source": [
    "X"
   ]
  },
  {
   "cell_type": "code",
   "execution_count": 31,
   "id": "dda84a97-4ee1-4680-8afc-8e30bbf58f1b",
   "metadata": {},
   "outputs": [],
   "source": [
    "ct = ColumnTransformer(transformers=[('encoder', OneHotEncoder(), [0,2])], remainder='passthrough')"
   ]
  },
  {
   "cell_type": "code",
   "execution_count": 32,
   "id": "ec2a8bc5-5bd9-4bec-aede-0af1d6cf5e9b",
   "metadata": {},
   "outputs": [],
   "source": [
    "X = np.array(ct.fit_transform(X))"
   ]
  },
  {
   "cell_type": "code",
   "execution_count": 33,
   "id": "4dc61d1d-26bb-43b7-978f-d428339af4b1",
   "metadata": {},
   "outputs": [],
   "source": [
    "scaler = StandardScaler()\n",
    "X_scaled = scaler.fit_transform(X)"
   ]
  },
  {
   "cell_type": "code",
   "execution_count": 34,
   "id": "e8a83737-f1de-4855-a0f1-bf98a6e3d902",
   "metadata": {},
   "outputs": [
    {
     "data": {
      "text/plain": [
       "array([[ 0.95437311, -0.95437311, -0.43643578, ...,  1.46333908,\n",
       "        -0.63651569, -0.69388867],\n",
       "       [ 0.95437311, -0.95437311, -0.43643578, ...,  1.46333908,\n",
       "         1.57105318, -0.69388867],\n",
       "       [ 0.95437311, -0.95437311,  2.29128785, ...,  1.46333908,\n",
       "        -0.63651569, -0.69388867],\n",
       "       ...,\n",
       "       [-1.04780824,  1.04780824,  2.29128785, ...,  1.46333908,\n",
       "        -0.63651569, -0.69388867],\n",
       "       [ 0.95437311, -0.95437311,  2.29128785, ..., -0.68336862,\n",
       "        -0.63651569, -0.69388867],\n",
       "       [-1.04780824,  1.04780824, -0.43643578, ..., -0.68336862,\n",
       "        -0.63651569,  1.44115338]])"
      ]
     },
     "execution_count": 34,
     "metadata": {},
     "output_type": "execute_result"
    }
   ],
   "source": [
    "X_scaled"
   ]
  },
  {
   "cell_type": "code",
   "execution_count": 35,
   "id": "00964c95-2925-425d-bb25-88205e2d2f65",
   "metadata": {},
   "outputs": [],
   "source": [
    "X_train,X_test,y_train,y_test = train_test_split(X_scaled,y,test_size=0.2,random_state=0)"
   ]
  },
  {
   "cell_type": "code",
   "execution_count": 36,
   "id": "b1037f9c-d4aa-4768-9c0a-5f92fa3aab02",
   "metadata": {},
   "outputs": [],
   "source": [
    "classifier = RandomForestClassifier(random_state=42)\n",
    "classifier.fit(X_train, y_train)\n",
    "y_pred = classifier.predict(X_test)"
   ]
  },
  {
   "cell_type": "code",
   "execution_count": 37,
   "id": "6bf6cc5c-28d6-46c2-a9b0-495cf8ed4609",
   "metadata": {},
   "outputs": [],
   "source": [
    "y_pred = classifier.predict(X_test)"
   ]
  },
  {
   "cell_type": "code",
   "execution_count": 38,
   "id": "7ed06fac-2623-4d84-a30f-ecdb47f60790",
   "metadata": {},
   "outputs": [
    {
     "name": "stdout",
     "output_type": "stream",
     "text": [
      "Accuracy: 0.89\n"
     ]
    }
   ],
   "source": [
    "accuracy = accuracy_score(y_test, y_pred)\n",
    "print(f\"Accuracy: {accuracy:.2f}\")"
   ]
  },
  {
   "cell_type": "code",
   "execution_count": 39,
   "id": "7e94bcf8-c64f-4066-9d8c-b69bbabca6ef",
   "metadata": {},
   "outputs": [],
   "source": [
    "import joblib"
   ]
  },
  {
   "cell_type": "code",
   "execution_count": 40,
   "id": "382e90a7-4d63-47a8-8dc6-a6553ff8b4eb",
   "metadata": {},
   "outputs": [
    {
     "data": {
      "text/plain": [
       "['Accenture.pkl']"
      ]
     },
     "execution_count": 40,
     "metadata": {},
     "output_type": "execute_result"
    }
   ],
   "source": [
    "joblib.dump(classifier, 'Accenture.pkl')"
   ]
  },
  {
   "cell_type": "code",
   "execution_count": 41,
   "id": "3d3431a3-0b47-4e8f-9702-56341225aae5",
   "metadata": {},
   "outputs": [
    {
     "data": {
      "text/plain": [
       "['mlb_accenture.pkl']"
      ]
     },
     "execution_count": 41,
     "metadata": {},
     "output_type": "execute_result"
    }
   ],
   "source": [
    "joblib.dump(mlb_accenture, 'mlb_accenture.pkl')"
   ]
  },
  {
   "cell_type": "code",
   "execution_count": null,
   "id": "6e8eb553-7f47-4cef-8371-c3d78d2ea64e",
   "metadata": {},
   "outputs": [],
   "source": []
  }
 ],
 "metadata": {
  "kernelspec": {
   "display_name": "Python 3 (ipykernel)",
   "language": "python",
   "name": "python3"
  },
  "language_info": {
   "codemirror_mode": {
    "name": "ipython",
    "version": 3
   },
   "file_extension": ".py",
   "mimetype": "text/x-python",
   "name": "python",
   "nbconvert_exporter": "python",
   "pygments_lexer": "ipython3",
   "version": "3.11.2"
  }
 },
 "nbformat": 4,
 "nbformat_minor": 5
}
