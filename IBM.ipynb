{
 "cells": [
  {
   "cell_type": "code",
   "execution_count": 1,
   "id": "7e0048d0-8c9a-4b94-9c5f-b1819bf339c0",
   "metadata": {},
   "outputs": [],
   "source": [
    "import pandas as pd\n",
    "import numpy as np\n",
    "from sklearn.preprocessing import LabelEncoder, MultiLabelBinarizer, StandardScaler, OneHotEncoder\n",
    "from sklearn.compose import ColumnTransformer\n",
    "from sklearn.model_selection import train_test_split\n",
    "from sklearn.ensemble import RandomForestClassifier\n",
    "from sklearn.metrics import accuracy_score, classification_report"
   ]
  },
  {
   "cell_type": "code",
   "execution_count": 2,
   "id": "85c9380f-1465-4deb-a9f5-0437e77d17a6",
   "metadata": {},
   "outputs": [],
   "source": [
    "df = pd.read_csv('student_dataset.csv')"
   ]
  },
  {
   "cell_type": "code",
   "execution_count": 3,
   "id": "0f523131-a97c-4c1e-badd-aa1c85c81375",
   "metadata": {},
   "outputs": [
    {
     "name": "stdout",
     "output_type": "stream",
     "text": [
      "<class 'pandas.core.frame.DataFrame'>\n",
      "RangeIndex: 600 entries, 0 to 599\n",
      "Data columns (total 12 columns):\n",
      " #   Column                                Non-Null Count  Dtype  \n",
      "---  ------                                --------------  -----  \n",
      " 0   Gender                                600 non-null    object \n",
      " 1   CGPA                                  600 non-null    float64\n",
      " 2   Skills                                600 non-null    object \n",
      " 3   Student_Department                    600 non-null    object \n",
      " 4   Prior_Internship_Experience(Integer)  600 non-null    int64  \n",
      " 5   Aptitude_Score                        600 non-null    int64  \n",
      " 6   Communication_Skill_Score(out_of_10)  600 non-null    float64\n",
      " 7   Zoho_hired                            600 non-null    object \n",
      " 8   Accenture_hired                       600 non-null    object \n",
      " 9   IBM_hired                             600 non-null    object \n",
      " 10  Cognizant_hired                       600 non-null    object \n",
      " 11  Knows Coding Language                 600 non-null    object \n",
      "dtypes: float64(2), int64(2), object(8)\n",
      "memory usage: 56.4+ KB\n"
     ]
    }
   ],
   "source": [
    "df.info()"
   ]
  },
  {
   "cell_type": "code",
   "execution_count": 4,
   "id": "d67f9c94-3a24-475b-ac7a-425d601744f3",
   "metadata": {},
   "outputs": [],
   "source": [
    "df['Skills'] = df['Skills'].apply(lambda x: x.split(', ')) "
   ]
  },
  {
   "cell_type": "code",
   "execution_count": 5,
   "id": "3c4f42cc-757d-417a-b5bd-f79d71d65b2d",
   "metadata": {},
   "outputs": [],
   "source": [
    "mlb_IBM = MultiLabelBinarizer()\n",
    "skills_encoded = pd.DataFrame(mlb_IBM.fit_transform(df['Skills']), columns=mlb_IBM.classes_, index=df.index)"
   ]
  },
  {
   "cell_type": "code",
   "execution_count": 6,
   "id": "9c53a6e9-4556-4769-9135-11daed185f51",
   "metadata": {},
   "outputs": [],
   "source": [
    "features = df[['Gender', 'CGPA', 'Student_Department', 'Prior_Internship_Experience(Integer)', 'Aptitude_Score', 'Communication_Skill_Score(out_of_10)']]\n",
    "X = pd.concat([features, skills_encoded], axis=1)"
   ]
  },
  {
   "cell_type": "code",
   "execution_count": 7,
   "id": "5de49c3f-57b4-429f-9db0-f162ddb01ea0",
   "metadata": {},
   "outputs": [],
   "source": [
    "y = df['IBM_hired']\n",
    "label_encoder = LabelEncoder()\n",
    "y = label_encoder.fit_transform(y)"
   ]
  },
  {
   "cell_type": "code",
   "execution_count": 8,
   "id": "1ba3fe90-f7d7-4457-b53e-675f27e18165",
   "metadata": {},
   "outputs": [],
   "source": [
    "X['Gender'] = label_encoder.fit_transform(X['Gender'])\n",
    "X['Student_Department'] = label_encoder.fit_transform(X['Student_Department'])"
   ]
  },
  {
   "cell_type": "code",
   "execution_count": 10,
   "id": "43a6a81f-50b0-48c3-9169-ccb8b1b07786",
   "metadata": {},
   "outputs": [],
   "source": [
    "X_train,X_test,y_train,y_test = train_test_split(X.values,y,test_size=0.2,random_state=42)"
   ]
  },
  {
   "cell_type": "code",
   "execution_count": 11,
   "id": "9d59dd82-a9a8-4c3b-b2fd-b415b9307925",
   "metadata": {},
   "outputs": [],
   "source": [
    "classifier = RandomForestClassifier(random_state=42)\n",
    "classifier.fit(X_train, y_train)\n",
    "y_pred = classifier.predict(X_test)"
   ]
  },
  {
   "cell_type": "code",
   "execution_count": 12,
   "id": "91f50fc0-d80e-4232-bacb-5452a1128af5",
   "metadata": {},
   "outputs": [],
   "source": [
    "y_pred = classifier.predict(X_test)"
   ]
  },
  {
   "cell_type": "code",
   "execution_count": 13,
   "id": "c2c5e596-aedb-4ca5-b144-ee6597e759df",
   "metadata": {},
   "outputs": [
    {
     "name": "stdout",
     "output_type": "stream",
     "text": [
      "Accuracy: 0.85\n"
     ]
    }
   ],
   "source": [
    "accuracy = accuracy_score(y_test, y_pred)\n",
    "print(f\"Accuracy: {accuracy:.2f}\")"
   ]
  },
  {
   "cell_type": "code",
   "execution_count": 14,
   "id": "e7a7429c-d848-4769-962a-076d300dc2fc",
   "metadata": {},
   "outputs": [],
   "source": [
    "import joblib"
   ]
  },
  {
   "cell_type": "code",
   "execution_count": 15,
   "id": "b93e6e4f-0cb5-4b3c-9793-955aaaef2c60",
   "metadata": {},
   "outputs": [
    {
     "data": {
      "text/plain": [
       "['IBM.pkl']"
      ]
     },
     "execution_count": 15,
     "metadata": {},
     "output_type": "execute_result"
    }
   ],
   "source": [
    "joblib.dump(classifier, 'IBM.pkl')"
   ]
  },
  {
   "cell_type": "code",
   "execution_count": 16,
   "id": "1d642e1d-4e7d-40fc-a5d5-fc9b0d1d998b",
   "metadata": {},
   "outputs": [
    {
     "data": {
      "text/plain": [
       "['mlb_IBM.pkl']"
      ]
     },
     "execution_count": 16,
     "metadata": {},
     "output_type": "execute_result"
    }
   ],
   "source": [
    "joblib.dump(mlb_IBM, 'mlb_IBM.pkl')"
   ]
  },
  {
   "cell_type": "code",
   "execution_count": null,
   "id": "a6f0838f-f13e-43da-b821-b5c267475dd4",
   "metadata": {},
   "outputs": [],
   "source": []
  }
 ],
 "metadata": {
  "kernelspec": {
   "display_name": "Python 3",
   "language": "python",
   "name": "python3"
  },
  "language_info": {
   "codemirror_mode": {
    "name": "ipython",
    "version": 3
   },
   "file_extension": ".py",
   "mimetype": "text/x-python",
   "name": "python",
   "nbconvert_exporter": "python",
   "pygments_lexer": "ipython3",
   "version": "3.11.2"
  }
 },
 "nbformat": 4,
 "nbformat_minor": 5
}
